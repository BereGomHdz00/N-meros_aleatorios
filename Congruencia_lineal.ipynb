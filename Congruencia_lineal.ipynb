{
 "cells": [
  {
   "cell_type": "code",
   "execution_count": 15,
   "id": "3fd24f72",
   "metadata": {},
   "outputs": [],
   "source": [
    "#CONGRUECIAL LINEAL \n",
    "#FORMULA: xi+1 = (a*xi + c) mod M\n",
    "#EXPLICACION: \n",
    "#Recibe una semilla, la constante multiplicativa \"a\", una constante aditiva \"c\"\n",
    "#un valor m para modulo, y \"n\" la cantidad de números a generar \n",
    "#Guarda en la lista lista_ale el valor de la semilla\n",
    "#despues recorre de 0 hasta n-1 para generar los demás valores aleatorios \n",
    "#mediante la formula mencionada, el resulta de dicha operación es la nueva semilla \n",
    "#que se usará para generar la siguiente, y así sucesivamente \n",
    "#NOTA: el valor de m debe ser mucho mas grande que la semilla y las constantes \n",
    "def congruenciaLineal(semilla, a, c, m, n):\n",
    "    xn =semilla\n",
    "    lista_alea = []\n",
    "    lista_alea.append(xn/m)\n",
    "    for i in range(n-1):\n",
    "        xn = (a*semilla + c) % m\n",
    "        lista_alea.append(xn/m)\n",
    "        semilla = xn\n",
    "    return lista_alea"
   ]
  },
  {
   "cell_type": "code",
   "execution_count": 16,
   "id": "a02c1c36",
   "metadata": {},
   "outputs": [
    {
     "name": "stdout",
     "output_type": "stream",
     "text": [
      "[0.4017857142857143, 0.017857142857142856, 0.33035714285714285, 0.5178571428571429, 0.8303571428571429, 0.017857142857142856, 0.33035714285714285, 0.5178571428571429, 0.8303571428571429, 0.017857142857142856, 0.33035714285714285, 0.5178571428571429, 0.8303571428571429, 0.017857142857142856, 0.33035714285714285, 0.5178571428571429, 0.8303571428571429, 0.017857142857142856, 0.33035714285714285, 0.5178571428571429]\n"
     ]
    }
   ],
   "source": [
    "aleatorios = congruenciaLineal(45, 7, 23, 112, 20)\n",
    "print(aleatorios)"
   ]
  },
  {
   "cell_type": "code",
   "execution_count": null,
   "id": "9b2b5ccd",
   "metadata": {},
   "outputs": [],
   "source": []
  }
 ],
 "metadata": {
  "kernelspec": {
   "display_name": "Python 3 (ipykernel)",
   "language": "python",
   "name": "python3"
  },
  "language_info": {
   "codemirror_mode": {
    "name": "ipython",
    "version": 3
   },
   "file_extension": ".py",
   "mimetype": "text/x-python",
   "name": "python",
   "nbconvert_exporter": "python",
   "pygments_lexer": "ipython3",
   "version": "3.11.1"
  }
 },
 "nbformat": 4,
 "nbformat_minor": 5
}
