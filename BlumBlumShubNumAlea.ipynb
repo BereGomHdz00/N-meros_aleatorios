{
 "cells": [
  {
   "cell_type": "code",
   "execution_count": 15,
   "id": "9dc234b1",
   "metadata": {},
   "outputs": [],
   "source": [
    "import random\n",
    "\n",
    "def es_primo(num):\n",
    "    if num < 2:\n",
    "        return False\n",
    "    for i in range(2, int(num**0.5) + 1):\n",
    "        if num % i == 0:\n",
    "            return False\n",
    "    return True"
   ]
  },
  {
   "cell_type": "code",
   "execution_count": 16,
   "id": "59a152e4",
   "metadata": {},
   "outputs": [],
   "source": [
    "def generar_primos(bits):\n",
    "    while True:\n",
    "        num = random.getrandbits(bits)\n",
    "        if es_primo(num):\n",
    "            return num"
   ]
  },
  {
   "cell_type": "code",
   "execution_count": 17,
   "id": "b39c21eb",
   "metadata": {},
   "outputs": [],
   "source": [
    "def blum_blum_shub(semilla, num_bits):\n",
    "    # Generar dos números primos grandes p y q\n",
    "    bits = num_bits // 2\n",
    "    p = generar_primos(bits)\n",
    "    q = generar_primos(bits)\n",
    "    \n",
    "    # Calcular n\n",
    "    n = p * q\n",
    "    \n",
    "    lista = []\n",
    "    state = semilla\n",
    "    for _ in range(num_bits):\n",
    "        bit = state & 1\n",
    "        lista.append(bit)\n",
    "        state = (state * state) % n\n",
    "    \n",
    "    return lista\n",
    "\n"
   ]
  },
  {
   "cell_type": "code",
   "execution_count": 19,
   "id": "3e7b4525",
   "metadata": {},
   "outputs": [
    {
     "name": "stdout",
     "output_type": "stream",
     "text": [
      "Secuencia pseudoaleatoria: [0, 1, 1, 1, 1, 0, 0, 0, 0, 0, 1, 1, 0, 1, 1, 1, 1, 1, 0, 1]\n"
     ]
    }
   ],
   "source": [
    "# Parámetros del algoritmo\n",
    "semilla = 123456\n",
    "num_bits = 20\n",
    "\n",
    "# Generar una secuencia pseudoaleatoria de 20 bits\n",
    "valor = blum_blum_shub(seed, num_bits)\n",
    "\n",
    "print(\"Secuencia pseudoaleatoria:\", valor)\n"
   ]
  },
  {
   "cell_type": "code",
   "execution_count": null,
   "id": "81159c0e",
   "metadata": {},
   "outputs": [],
   "source": []
  }
 ],
 "metadata": {
  "kernelspec": {
   "display_name": "Python 3 (ipykernel)",
   "language": "python",
   "name": "python3"
  },
  "language_info": {
   "codemirror_mode": {
    "name": "ipython",
    "version": 3
   },
   "file_extension": ".py",
   "mimetype": "text/x-python",
   "name": "python",
   "nbconvert_exporter": "python",
   "pygments_lexer": "ipython3",
   "version": "3.10.4"
  }
 },
 "nbformat": 4,
 "nbformat_minor": 5
}
