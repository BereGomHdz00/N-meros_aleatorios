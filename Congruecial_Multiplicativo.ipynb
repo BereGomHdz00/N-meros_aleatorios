{
 "cells": [
  {
   "cell_type": "code",
   "execution_count": 9,
   "id": "16432d90",
   "metadata": {},
   "outputs": [],
   "source": [
    "#CONGRUECIAL MULTIPLICATIVA \n",
    "#FÓRMULA: xi+1 = (a*xi) mod M\n",
    "#CONDICIONES:\n",
    "#semilla debe ser impar y menor que el modulo\n",
    "#m debe ser 2^{entero}\n",
    "#a debe cumplir 5 + 8k con k enteros\n",
    "#EXPLICACIÓN:\n",
    "#Recibe una semilla y la guarda en una variable aux y será el primer valor de nuestra lista \n",
    "#Después aplicamos la fórmula previamente mencionada \n",
    "#y se normaliza mientras se agrega a la lista \n",
    "#ese valor ahora es la nueva semilla\n",
    "#dicho procedimiento se hará desde 0 hasta n - 1 y retorna la lista\n",
    "def congruecial_multiplicativo(semilla, m, a, n):\n",
    "    lista = []\n",
    "    aux = semilla\n",
    "    lista.append(aux/m)\n",
    "    for i in range(n-1):\n",
    "        aux = (a * aux) % m\n",
    "        lista.append(aux/m)\n",
    "    return lista"
   ]
  },
  {
   "cell_type": "code",
   "execution_count": 7,
   "id": "5c48378f",
   "metadata": {},
   "outputs": [],
   "source": [
    "lista = congruecial_multiplicativo(63,256, 45, 10)"
   ]
  },
  {
   "cell_type": "code",
   "execution_count": 8,
   "id": "0f23f24c",
   "metadata": {},
   "outputs": [
    {
     "name": "stdout",
     "output_type": "stream",
     "text": [
      "[0.24609375, 0.07421875, 0.33984375, 0.29296875, 0.18359375, 0.26171875, 0.77734375, 0.98046875, 0.12109375, 0.44921875]\n"
     ]
    }
   ],
   "source": [
    "print(lista)"
   ]
  },
  {
   "cell_type": "code",
   "execution_count": null,
   "id": "fd8b6671",
   "metadata": {},
   "outputs": [],
   "source": []
  }
 ],
 "metadata": {
  "kernelspec": {
   "display_name": "Python 3 (ipykernel)",
   "language": "python",
   "name": "python3"
  },
  "language_info": {
   "codemirror_mode": {
    "name": "ipython",
    "version": 3
   },
   "file_extension": ".py",
   "mimetype": "text/x-python",
   "name": "python",
   "nbconvert_exporter": "python",
   "pygments_lexer": "ipython3",
   "version": "3.11.1"
  }
 },
 "nbformat": 4,
 "nbformat_minor": 5
}
