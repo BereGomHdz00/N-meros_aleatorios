{
 "cells": [
  {
   "cell_type": "code",
   "execution_count": 2,
   "id": "c2aeb3d9",
   "metadata": {},
   "outputs": [
    {
     "name": "stdout",
     "output_type": "stream",
     "text": [
      "Ingrese la semilla 1: 5678\n",
      "Ingrese la semilla 2: 3446\n",
      "Ingrese la cantidad de numeros pseudoaleatorios que desea: 20\n",
      "[0.5663, 0.5146, 0.1417, 0.2918, 0.1348, 0.9334, 0.5822, 0.3425, 0.9403, 0.2052, 0.2949, 0.0513, 0.5128, 0.6306, 0.3371, 0.2575, 0.6803, 0.5177, 0.2191, 0.3428]\n"
     ]
    }
   ],
   "source": [
    "#Productos medios \n",
    "#Condición:\n",
    "\"\"\"\n",
    "x0 y x1 deben del mismo tamaño y mayores o iguales a 3 digitos  \n",
    "\"\"\"\n",
    "#Explicacion:\n",
    "\"\"\"\n",
    "Tenemos una lista x con los valores iniciales x0 y x1 (semillas pedidas).\n",
    "Calcula la longitud de la cadena de dígitos en x0 y la almacena en la variable tam0.\n",
    "Divide tam0 entre 2 y almacena el cociente entero en li (parte izquierda) y el cociente entero más 1 en ls (parte derecha) si tam0 no es divisible por 2.\n",
    "Calcula div, que es 10 elevado a la potencia de tam0.\n",
    "Usamos una lista vacía llamada numeros que se utilizará para almacenar los números generados en cada iteración.\n",
    "Luego, se ejecuta un bucle for que va desde 0 hasta n-1.\n",
    "En cada iteración del bucle, multiplica los dos valores anteriores en la lista x (inicialmente x0 y x1) y almacena el resultado en la variable y.\n",
    "Convierte el valor de y en una cadena de caracteres y_num.\n",
    "Calcula la longitud de y_num y divide esta longitud entre 2, almacenando el cociente en la variable tam.\n",
    "Extrae una parte de y_num que contiene los dígitos del medio (parte izquierda li y parte derecha ls) y la convierte en un número entero y_aux.\n",
    "Agrega y_aux a la lista x, lo que lo convierte en el valor actual para la próxima iteración.\n",
    "Calcula y_aux / div y agrega el resultado a la lista numeros.\n",
    "Finalmente, la función devuelve la lista numeros que contiene los números generados en cada iteración.\n",
    "\n",
    "\"\"\"\n",
    "def productos_medios(x0, x1, n):\n",
    "    x = []\n",
    "    x.append(x0)\n",
    "    x.append(x1)\n",
    "    tam0= len(str(x0))\n",
    "    li = tam0//2\n",
    "    if (tam0%2)!=0 :\n",
    "        ls = tam0//2 + 1\n",
    "    else: \n",
    "        ls = tam0//2\n",
    "    div = pow(10,tam0)\n",
    "    numeros = []\n",
    "    for i in range(0,n):\n",
    "        y = x[i] * x[i+1]\n",
    "        y_num = str(y)        \n",
    "        tam = len(y_num) //2\n",
    "        y_aux = int(y_num[tam-li:tam+ls])  \n",
    "        x.append(int(y_aux))\n",
    "        numeros.append(y_aux/div)\n",
    "    return numeros\n",
    "\n",
    "bandera = True\n",
    "                    \n",
    "while bandera == True: #(len(str(x0))==len(str(x1)))==False and (len(str(x0)) < 3 and (len(str(x1)) < 3)) == False:\n",
    "    x0 = input(\"Ingrese la semilla 1: \")\n",
    "    x0 = int(x0)\n",
    "\n",
    "    x1 = input(\"Ingrese la semilla 2: \")\n",
    "    x1 = int(x1)\n",
    "\n",
    "    n = input(\"Ingrese la cantidad de numeros pseudoaleatorios que desea: \")\n",
    "    n = int(n)\n",
    "    if (len(str(x0))==len(str(x1))) and (len(str(x0)) >= 3 and (len(str(x1)) >= 3)):\n",
    "        x0 = int(x0)\n",
    "        x1 = int(x1)\n",
    "        numeros = productos_medios(x0,x1,n)\n",
    "        print(numeros)\n",
    "        bandera = False\n",
    "    else: \n",
    "        print(\"\\nIngrese valores de semilla  mayores a 3 y del mismo tamaño\\n\")\n",
    "        bandera = True\n",
    "        \n",
    "\n",
    "    \n",
    "    "
   ]
  },
  {
   "cell_type": "code",
   "execution_count": null,
   "id": "24fd1fd6",
   "metadata": {},
   "outputs": [],
   "source": []
  }
 ],
 "metadata": {
  "kernelspec": {
   "display_name": "Python 3 (ipykernel)",
   "language": "python",
   "name": "python3"
  },
  "language_info": {
   "codemirror_mode": {
    "name": "ipython",
    "version": 3
   },
   "file_extension": ".py",
   "mimetype": "text/x-python",
   "name": "python",
   "nbconvert_exporter": "python",
   "pygments_lexer": "ipython3",
   "version": "3.11.1"
  }
 },
 "nbformat": 4,
 "nbformat_minor": 5
}
