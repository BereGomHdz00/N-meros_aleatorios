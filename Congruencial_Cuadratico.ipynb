{
 "cells": [
  {
   "cell_type": "code",
   "execution_count": 3,
   "id": "1602a005",
   "metadata": {},
   "outputs": [],
   "source": [
    "#CONGRUECIAL CUADRÁTICO\n",
    "#FORMULA : xi+1 = (a*xi^2 + b*xi + c) mod M\n",
    "#PARÁMETROS:\n",
    "#a es una constante multiplicativa x**2\n",
    "#b es una constante multiplicavitva x\n",
    "#c es una constante aditiva\n",
    "#m es el modulo\n",
    "#n es la cantidad de num aleatorios\n",
    "\n",
    "#EXPLICACIÓN: \n",
    "#Recibe una semilla la cual va a modificarse de la siguiente forma donde xn es dicha semilla\n",
    "#y también recibe los parámetros anteriormente declarados, la semilla se guarda en una lista y se \n",
    "#procede a hacer la siguiente operacion: a*xn^2 + b*xn + c\n",
    "#para finalmente obtener el modulo M de dicha transformacion\n",
    "# el resultado es la nueva semilla o xn que se guardara en la lista mencionada \n",
    "#los números pseudo aleatorios se encuentran normalizados debido al modulo\n",
    "def congruencialCuadratico(semilla,a,b,c,m,n):\n",
    "    xn = semilla\n",
    "    lista_alea = []\n",
    "    lista_alea.append(xn/m)\n",
    "    for i in range(n-1):\n",
    "        xn = (a*(semilla**2) + b*semilla + c) % m\n",
    "        lista_alea.append(xn/m)\n",
    "        semilla = xn\n",
    "        \n",
    "    return lista_alea"
   ]
  },
  {
   "cell_type": "code",
   "execution_count": 4,
   "id": "6999fb6e",
   "metadata": {},
   "outputs": [
    {
     "name": "stdout",
     "output_type": "stream",
     "text": [
      "[0.00555, 0.0465, 0.4525, 0.4125, 0.0125, 0.0125, 0.0125, 0.0125, 0.0125, 0.0125]\n"
     ]
    }
   ],
   "source": [
    "valor = congruencialCuadratico(111,120,560,250,20000,10)\n",
    "print(valor)"
   ]
  },
  {
   "cell_type": "code",
   "execution_count": null,
   "id": "505d57f0",
   "metadata": {},
   "outputs": [],
   "source": []
  }
 ],
 "metadata": {
  "kernelspec": {
   "display_name": "Python 3 (ipykernel)",
   "language": "python",
   "name": "python3"
  },
  "language_info": {
   "codemirror_mode": {
    "name": "ipython",
    "version": 3
   },
   "file_extension": ".py",
   "mimetype": "text/x-python",
   "name": "python",
   "nbconvert_exporter": "python",
   "pygments_lexer": "ipython3",
   "version": "3.11.1"
  }
 },
 "nbformat": 4,
 "nbformat_minor": 5
}
