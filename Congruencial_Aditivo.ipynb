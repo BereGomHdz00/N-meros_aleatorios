{
 "cells": [
  {
   "cell_type": "code",
   "execution_count": 10,
   "id": "11566b76",
   "metadata": {},
   "outputs": [],
   "source": [
    "#CONGRUENCIAL ADITIVO \n",
    "#FÓRMULA: xi+1 = xi-q+1 + xi-q+2... mod (m)\n",
    "#CONDICONES:\n",
    "#La semilla debe ser menor a m\n",
    "#EXPLICACIÓN:\n",
    "#Recibe un valor que es la semilla y la guarda en una lista\n",
    "#Después se itera de 0 a n - 1 números \n",
    "#Vamos sumando todos los valores que se encuentran en la lista y obtenemos su módulo\n",
    "#el resultado de lo anmterior lo guardamos en la lista, y así sucesivamenmte \n",
    "def congruencialAditivo(semilla, n, m):\n",
    "    lista = [semilla/(m-1)]\n",
    "    for i in range(n-1):\n",
    "        num = sum(lista[-n:]) % m\n",
    "        lista.append(num/(m-1))\n",
    "    return lista"
   ]
  },
  {
   "cell_type": "code",
   "execution_count": 11,
   "id": "f6027802",
   "metadata": {},
   "outputs": [
    {
     "name": "stdout",
     "output_type": "stream",
     "text": [
      "[0.2134387351778656, 0.0008436313643393898, 0.0008469658756608894, 0.0008503135668690351, 0.0008536744900582409, 0.0008570486975288268, 0.000860436241787834, 0.0008638371755498413, 0.0008672515517377853, 0.0008706794234837845]\n"
     ]
    }
   ],
   "source": [
    "valor = congruencialAditivo(54, 10,  254)\n",
    "print(valor)"
   ]
  },
  {
   "cell_type": "code",
   "execution_count": null,
   "id": "64e903ed",
   "metadata": {},
   "outputs": [],
   "source": []
  }
 ],
 "metadata": {
  "kernelspec": {
   "display_name": "Python 3 (ipykernel)",
   "language": "python",
   "name": "python3"
  },
  "language_info": {
   "codemirror_mode": {
    "name": "ipython",
    "version": 3
   },
   "file_extension": ".py",
   "mimetype": "text/x-python",
   "name": "python",
   "nbconvert_exporter": "python",
   "pygments_lexer": "ipython3",
   "version": "3.11.1"
  }
 },
 "nbformat": 4,
 "nbformat_minor": 5
}
