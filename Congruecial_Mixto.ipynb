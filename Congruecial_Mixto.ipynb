{
 "cells": [
  {
   "cell_type": "code",
   "execution_count": 1,
   "id": "e903c1c5",
   "metadata": {},
   "outputs": [],
   "source": [
    "#CONGRUENCIAL MIXTO\n",
    "#FORMULA: xi+1 = (a*xi + c) mod M\n",
    "#EXPLICACION: \n",
    "#Recibe una semilla, la constante multiplicativa \"a\", una constante aditiva \"c\"\n",
    "#un valor m para modulo, y \"n\" la cantidad de números a generar \n",
    "#Guarda en la lista lista_ale el valor de la semilla\n",
    "#despues recorre de 0 hasta n-1 para generar los demás valores aleatorios \n",
    "#mediante la formula mencionada, el resulta de dicha operación es la nueva semilla \n",
    "#que se usará para generar la siguiente, y así sucesivamente \n",
    "#NOTA: el valor de m debe ser mucho mas grande que la semilla y las constantes \n",
    "\n",
    "def congrucail_mixto(semilla, a, c, m, n):\n",
    "    xn =semilla\n",
    "    lista_alea = []\n",
    "    lista_alea.append(xn/m)\n",
    "    for i in range(n):\n",
    "        xn = (a*semilla + c) % m\n",
    "        lista_alea.append(xn/m)\n",
    "        semilla = xn\n",
    "    return lista_alea"
   ]
  },
  {
   "cell_type": "code",
   "execution_count": 2,
   "id": "db93d484",
   "metadata": {},
   "outputs": [
    {
     "name": "stdout",
     "output_type": "stream",
     "text": [
      "[0.0185546875, 0.4931640625, 0.3583984375, 0.9892578125, 0.7607421875, 0.0478515625, 0.2255859375, 0.6689453125, 0.7529296875, 0.8525390625, 0.3427734375, 0.5986328125, 0.9951171875, 0.9072265625, 0.7099609375, 0.7783203125, 0.4873046875, 0.2119140625, 0.3271484375, 0.2080078125, 0.2294921875]\n"
     ]
    }
   ],
   "source": [
    "aleatorios = congrucail_mixto(19, 25, 30, 1024, 20)\n",
    "print(aleatorios)"
   ]
  },
  {
   "cell_type": "code",
   "execution_count": null,
   "id": "ce444dde",
   "metadata": {},
   "outputs": [],
   "source": []
  }
 ],
 "metadata": {
  "kernelspec": {
   "display_name": "Python 3 (ipykernel)",
   "language": "python",
   "name": "python3"
  },
  "language_info": {
   "codemirror_mode": {
    "name": "ipython",
    "version": 3
   },
   "file_extension": ".py",
   "mimetype": "text/x-python",
   "name": "python",
   "nbconvert_exporter": "python",
   "pygments_lexer": "ipython3",
   "version": "3.11.1"
  }
 },
 "nbformat": 4,
 "nbformat_minor": 5
}
