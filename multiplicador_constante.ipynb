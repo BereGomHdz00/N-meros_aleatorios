{
 "cells": [
  {
   "cell_type": "code",
   "execution_count": 1,
   "id": "fe993187",
   "metadata": {},
   "outputs": [
    {
     "name": "stdout",
     "output_type": "stream",
     "text": [
      "Ingrese la semilla 1: 45\n",
      "Ingrese la constante: 34\n",
      "Ingrese la cantidad de numeros pseudoaleatorios que desea: 3\n",
      "\n",
      "Ingrese valores de semilla y constante mayores a 3 y del mismo tamaño\n",
      "\n",
      "Ingrese la semilla 1: 234\n",
      "Ingrese la constante: 23\n",
      "Ingrese la cantidad de numeros pseudoaleatorios que desea: 20\n",
      "\n",
      "Ingrese valores de semilla y constante mayores a 3 y del mismo tamaño\n",
      "\n",
      "Ingrese la semilla 1: 456\n",
      "Ingrese la constante: 34\n",
      "Ingrese la cantidad de numeros pseudoaleatorios que desea: 20\n",
      "\n",
      "Ingrese valores de semilla y constante mayores a 3 y del mismo tamaño\n",
      "\n",
      "Ingrese la semilla 1: 234\n",
      "Ingrese la constante: 356\n",
      "Ingrese la cantidad de numeros pseudoaleatorios que desea: 20\n",
      "[0.33, 0.748, 0.628, 0.356, 0.673, 0.958, 0.104, 0.702, 0.991, 0.279, 0.932, 0.179, 0.372, 0.243, 0.65, 0.14, 0.984, 0.03, 0.068, 0.42]\n"
     ]
    }
   ],
   "source": [
    "#Mulriplicador constante\n",
    "#FÓRMULA: Yi = a * Xi; Xi+1 = D digitos centrales\n",
    "#CONDICONES:\n",
    "#La semilla debe ser un número de igual o mas de tres digitos \n",
    "#EXPLICACIÓN: \n",
    "\"\"\"\n",
    "Toma un valor inicial x0, un factor c, y el número de iteraciones n. \n",
    "Los números generados se almacenan en una lista y se devuelven como resultado. \n",
    "El método implica multiplicar el valor anterior por c, tomar los dígitos del medio y normalizar el resultado.\n",
    "\"\"\"\n",
    "def multiplicador_constante(x0, c, n):\n",
    "    x = []\n",
    "    x.append(x0)\n",
    "    tam0= len(str(x0))\n",
    "    li = tam0//2\n",
    "    if (tam0%2)!=0 :\n",
    "        ls = tam0//2 + 1\n",
    "    else: \n",
    "        ls = tam0//2\n",
    "    div = pow(10,tam0)\n",
    "    numeros = []\n",
    "    for i in range(0,n):\n",
    "        y = c * x[i]\n",
    "        y_num = str(y)        \n",
    "        tam = len(y_num) //2\n",
    "        y_aux = int(y_num[tam-li:tam+ls])  \n",
    "        \n",
    "        x.append(int(y_aux))\n",
    "        numeros.append(y_aux/div)\n",
    "    return numeros\n",
    "\n",
    "bandera = True\n",
    "                    \n",
    "while bandera == True: \n",
    "    x0 = input(\"Ingrese la semilla 1: \")\n",
    "    x0 = int(x0)\n",
    "\n",
    "    x1 = input(\"Ingrese la constante: \")\n",
    "    x1 = int(x1)\n",
    "\n",
    "    n = input(\"Ingrese la cantidad de numeros pseudoaleatorios que desea: \")\n",
    "    n = int(n)\n",
    "    if (len(str(x0))==len(str(x1))) and (len(str(x0)) >= 3 and (len(str(x1)) >= 3)):\n",
    "        x0 = int(x0)\n",
    "        x1 = int(x1)\n",
    "        numeros = multiplicador_constante(x0,x1,n)\n",
    "        print(numeros)\n",
    "        bandera = False\n",
    "    else: \n",
    "        print(\"\\nIngrese valores de semilla y constante mayores a 3 y del mismo tamaño\\n\")\n",
    "        bandera = True\n",
    "        "
   ]
  },
  {
   "cell_type": "code",
   "execution_count": null,
   "id": "7aa48a87",
   "metadata": {},
   "outputs": [],
   "source": []
  }
 ],
 "metadata": {
  "kernelspec": {
   "display_name": "Python 3 (ipykernel)",
   "language": "python",
   "name": "python3"
  },
  "language_info": {
   "codemirror_mode": {
    "name": "ipython",
    "version": 3
   },
   "file_extension": ".py",
   "mimetype": "text/x-python",
   "name": "python",
   "nbconvert_exporter": "python",
   "pygments_lexer": "ipython3",
   "version": "3.11.1"
  }
 },
 "nbformat": 4,
 "nbformat_minor": 5
}
